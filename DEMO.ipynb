{
 "cells": [
  {
   "cell_type": "code",
   "execution_count": 1,
   "metadata": {},
   "outputs": [
    {
     "data": {
      "text/html": [
       "\n",
       "<script>\n",
       "    code_show = false; // Code cells will be hidden by default\n",
       "\n",
       "    function code_toggle() {\n",
       "        if (code_show) {\n",
       "            document.querySelectorAll('.jp-CodeCell .jp-InputArea').forEach(function(el) {\n",
       "                el.style.display = 'none';\n",
       "            });\n",
       "        } else {\n",
       "            document.querySelectorAll('.jp-CodeCell .jp-InputArea').forEach(function(el) {\n",
       "                el.style.display = 'block';\n",
       "            });\n",
       "        }\n",
       "        code_show = !code_show;\n",
       "    }\n",
       "\n",
       "    // Hide code cells when the page is loaded\n",
       "    document.addEventListener(\"DOMContentLoaded\", function() {\n",
       "        document.querySelectorAll('.jp-CodeCell .jp-InputArea').forEach(function(el) {\n",
       "            el.style.display = 'none';\n",
       "        });\n",
       "    });\n",
       "</script>\n",
       "<form action=\"javascript:code_toggle()\">\n",
       "    <input type=\"submit\" value=\"Show / Hide code\">\n",
       "</form>\n"
      ],
      "text/plain": [
       "<IPython.core.display.HTML object>"
      ]
     },
     "execution_count": 1,
     "metadata": {},
     "output_type": "execute_result"
    }
   ],
   "source": [
    "from IPython.display import HTML\n",
    "\n",
    "HTML(\n",
    "'''\n",
    "<script>\n",
    "    code_show = false; // Code cells will be hidden by default\n",
    "\n",
    "    function code_toggle() {\n",
    "        if (code_show) {\n",
    "            document.querySelectorAll('.jp-CodeCell .jp-InputArea').forEach(function(el) {\n",
    "                el.style.display = 'none';\n",
    "            });\n",
    "        } else {\n",
    "            document.querySelectorAll('.jp-CodeCell .jp-InputArea').forEach(function(el) {\n",
    "                el.style.display = 'block';\n",
    "            });\n",
    "        }\n",
    "        code_show = !code_show;\n",
    "    }\n",
    "\n",
    "    // Hide code cells when the page is loaded\n",
    "    document.addEventListener(\"DOMContentLoaded\", function() {\n",
    "        document.querySelectorAll('.jp-CodeCell .jp-InputArea').forEach(function(el) {\n",
    "            el.style.display = 'none';\n",
    "        });\n",
    "    });\n",
    "</script>\n",
    "<form action=\"javascript:code_toggle()\">\n",
    "    <input type=\"submit\" value=\"Show / Hide code\">\n",
    "</form>\n",
    "'''\n",
    ")"
   ]
  }
 ],
 "metadata": {
  "kernelspec": {
   "display_name": "Strava",
   "language": "python",
   "name": "python3"
  },
  "language_info": {
   "codemirror_mode": {
    "name": "ipython",
    "version": 3
   },
   "file_extension": ".py",
   "mimetype": "text/x-python",
   "name": "python",
   "nbconvert_exporter": "python",
   "pygments_lexer": "ipython3",
   "version": "3.10.2"
  }
 },
 "nbformat": 4,
 "nbformat_minor": 2
}
